{
 "cells": [
  {
   "cell_type": "code",
   "execution_count": 1,
   "metadata": {},
   "outputs": [],
   "source": [
    "%matplotlib inline"
   ]
  },
  {
   "cell_type": "code",
   "execution_count": 2,
   "metadata": {},
   "outputs": [
    {
     "name": "stdout",
     "output_type": "stream",
     "text": [
      "WARNING:tensorflow:From /home/dyanos/anaconda3/lib/python3.7/site-packages/tensorflow/python/ops/resource_variable_ops.py:435: colocate_with (from tensorflow.python.framework.ops) is deprecated and will be removed in a future version.\n",
      "Instructions for updating:\n",
      "Colocations handled automatically by placer.\n"
     ]
    }
   ],
   "source": [
    "from tensorflow.keras.applications import inception_v3\n",
    "from tensorflow.keras import backend as K\n",
    "#from tensorflow.keras.applications.imagenet_utils import decode_predictions\n",
    "from tensorflow.keras.applications.resnet50 import preprocess_input, decode_predictions\n",
    "from tensorflow.keras.preprocessing import image\n",
    "import numpy as np\n",
    "K.set_learning_phase(0)\n",
    "\n",
    "model = inception_v3.InceptionV3(weights='imagenet',include_top=True)"
   ]
  },
  {
   "cell_type": "code",
   "execution_count": 3,
   "metadata": {},
   "outputs": [
    {
     "name": "stdout",
     "output_type": "stream",
     "text": [
      "input_1\n",
      "conv2d\n",
      "batch_normalization_v1\n",
      "activation\n",
      "conv2d_1\n",
      "batch_normalization_v1_1\n",
      "activation_1\n",
      "conv2d_2\n",
      "batch_normalization_v1_2\n",
      "activation_2\n",
      "max_pooling2d\n",
      "conv2d_3\n",
      "batch_normalization_v1_3\n",
      "activation_3\n",
      "conv2d_4\n",
      "batch_normalization_v1_4\n",
      "activation_4\n",
      "max_pooling2d_1\n",
      "conv2d_8\n",
      "batch_normalization_v1_8\n",
      "activation_8\n",
      "conv2d_6\n",
      "conv2d_9\n",
      "batch_normalization_v1_6\n",
      "batch_normalization_v1_9\n",
      "activation_6\n",
      "activation_9\n",
      "average_pooling2d\n",
      "conv2d_5\n",
      "conv2d_7\n",
      "conv2d_10\n",
      "conv2d_11\n",
      "batch_normalization_v1_5\n",
      "batch_normalization_v1_7\n",
      "batch_normalization_v1_10\n",
      "batch_normalization_v1_11\n",
      "activation_5\n",
      "activation_7\n",
      "activation_10\n",
      "activation_11\n",
      "mixed0\n",
      "conv2d_15\n",
      "batch_normalization_v1_15\n",
      "activation_15\n",
      "conv2d_13\n",
      "conv2d_16\n",
      "batch_normalization_v1_13\n",
      "batch_normalization_v1_16\n",
      "activation_13\n",
      "activation_16\n",
      "average_pooling2d_1\n",
      "conv2d_12\n",
      "conv2d_14\n",
      "conv2d_17\n",
      "conv2d_18\n",
      "batch_normalization_v1_12\n",
      "batch_normalization_v1_14\n",
      "batch_normalization_v1_17\n",
      "batch_normalization_v1_18\n",
      "activation_12\n",
      "activation_14\n",
      "activation_17\n",
      "activation_18\n",
      "mixed1\n",
      "conv2d_22\n",
      "batch_normalization_v1_22\n",
      "activation_22\n",
      "conv2d_20\n",
      "conv2d_23\n",
      "batch_normalization_v1_20\n",
      "batch_normalization_v1_23\n",
      "activation_20\n",
      "activation_23\n",
      "average_pooling2d_2\n",
      "conv2d_19\n",
      "conv2d_21\n",
      "conv2d_24\n",
      "conv2d_25\n",
      "batch_normalization_v1_19\n",
      "batch_normalization_v1_21\n",
      "batch_normalization_v1_24\n",
      "batch_normalization_v1_25\n",
      "activation_19\n",
      "activation_21\n",
      "activation_24\n",
      "activation_25\n",
      "mixed2\n",
      "conv2d_27\n",
      "batch_normalization_v1_27\n",
      "activation_27\n",
      "conv2d_28\n",
      "batch_normalization_v1_28\n",
      "activation_28\n",
      "conv2d_26\n",
      "conv2d_29\n",
      "batch_normalization_v1_26\n",
      "batch_normalization_v1_29\n",
      "activation_26\n",
      "activation_29\n",
      "max_pooling2d_2\n",
      "mixed3\n",
      "conv2d_34\n",
      "batch_normalization_v1_34\n",
      "activation_34\n",
      "conv2d_35\n",
      "batch_normalization_v1_35\n",
      "activation_35\n",
      "conv2d_31\n",
      "conv2d_36\n",
      "batch_normalization_v1_31\n",
      "batch_normalization_v1_36\n",
      "activation_31\n",
      "activation_36\n",
      "conv2d_32\n",
      "conv2d_37\n",
      "batch_normalization_v1_32\n",
      "batch_normalization_v1_37\n",
      "activation_32\n",
      "activation_37\n",
      "average_pooling2d_3\n",
      "conv2d_30\n",
      "conv2d_33\n",
      "conv2d_38\n",
      "conv2d_39\n",
      "batch_normalization_v1_30\n",
      "batch_normalization_v1_33\n",
      "batch_normalization_v1_38\n",
      "batch_normalization_v1_39\n",
      "activation_30\n",
      "activation_33\n",
      "activation_38\n",
      "activation_39\n",
      "mixed4\n",
      "conv2d_44\n",
      "batch_normalization_v1_44\n",
      "activation_44\n",
      "conv2d_45\n",
      "batch_normalization_v1_45\n",
      "activation_45\n",
      "conv2d_41\n",
      "conv2d_46\n",
      "batch_normalization_v1_41\n",
      "batch_normalization_v1_46\n",
      "activation_41\n",
      "activation_46\n",
      "conv2d_42\n",
      "conv2d_47\n",
      "batch_normalization_v1_42\n",
      "batch_normalization_v1_47\n",
      "activation_42\n",
      "activation_47\n",
      "average_pooling2d_4\n",
      "conv2d_40\n",
      "conv2d_43\n",
      "conv2d_48\n",
      "conv2d_49\n",
      "batch_normalization_v1_40\n",
      "batch_normalization_v1_43\n",
      "batch_normalization_v1_48\n",
      "batch_normalization_v1_49\n",
      "activation_40\n",
      "activation_43\n",
      "activation_48\n",
      "activation_49\n",
      "mixed5\n",
      "conv2d_54\n",
      "batch_normalization_v1_54\n",
      "activation_54\n",
      "conv2d_55\n",
      "batch_normalization_v1_55\n",
      "activation_55\n",
      "conv2d_51\n",
      "conv2d_56\n",
      "batch_normalization_v1_51\n",
      "batch_normalization_v1_56\n",
      "activation_51\n",
      "activation_56\n",
      "conv2d_52\n",
      "conv2d_57\n",
      "batch_normalization_v1_52\n",
      "batch_normalization_v1_57\n",
      "activation_52\n",
      "activation_57\n",
      "average_pooling2d_5\n",
      "conv2d_50\n",
      "conv2d_53\n",
      "conv2d_58\n",
      "conv2d_59\n",
      "batch_normalization_v1_50\n",
      "batch_normalization_v1_53\n",
      "batch_normalization_v1_58\n",
      "batch_normalization_v1_59\n",
      "activation_50\n",
      "activation_53\n",
      "activation_58\n",
      "activation_59\n",
      "mixed6\n",
      "conv2d_64\n",
      "batch_normalization_v1_64\n",
      "activation_64\n",
      "conv2d_65\n",
      "batch_normalization_v1_65\n",
      "activation_65\n",
      "conv2d_61\n",
      "conv2d_66\n",
      "batch_normalization_v1_61\n",
      "batch_normalization_v1_66\n",
      "activation_61\n",
      "activation_66\n",
      "conv2d_62\n",
      "conv2d_67\n",
      "batch_normalization_v1_62\n",
      "batch_normalization_v1_67\n",
      "activation_62\n",
      "activation_67\n",
      "average_pooling2d_6\n",
      "conv2d_60\n",
      "conv2d_63\n",
      "conv2d_68\n",
      "conv2d_69\n",
      "batch_normalization_v1_60\n",
      "batch_normalization_v1_63\n",
      "batch_normalization_v1_68\n",
      "batch_normalization_v1_69\n",
      "activation_60\n",
      "activation_63\n",
      "activation_68\n",
      "activation_69\n",
      "mixed7\n",
      "conv2d_72\n",
      "batch_normalization_v1_72\n",
      "activation_72\n",
      "conv2d_73\n",
      "batch_normalization_v1_73\n",
      "activation_73\n",
      "conv2d_70\n",
      "conv2d_74\n",
      "batch_normalization_v1_70\n",
      "batch_normalization_v1_74\n",
      "activation_70\n",
      "activation_74\n",
      "conv2d_71\n",
      "conv2d_75\n",
      "batch_normalization_v1_71\n",
      "batch_normalization_v1_75\n",
      "activation_71\n",
      "activation_75\n",
      "max_pooling2d_3\n",
      "mixed8\n",
      "conv2d_80\n",
      "batch_normalization_v1_80\n",
      "activation_80\n",
      "conv2d_77\n",
      "conv2d_81\n",
      "batch_normalization_v1_77\n",
      "batch_normalization_v1_81\n",
      "activation_77\n",
      "activation_81\n",
      "conv2d_78\n",
      "conv2d_79\n",
      "conv2d_82\n",
      "conv2d_83\n",
      "average_pooling2d_7\n",
      "conv2d_76\n",
      "batch_normalization_v1_78\n",
      "batch_normalization_v1_79\n",
      "batch_normalization_v1_82\n",
      "batch_normalization_v1_83\n",
      "conv2d_84\n",
      "batch_normalization_v1_76\n",
      "activation_78\n",
      "activation_79\n",
      "activation_82\n",
      "activation_83\n",
      "batch_normalization_v1_84\n",
      "activation_76\n",
      "mixed9_0\n",
      "concatenate\n",
      "activation_84\n",
      "mixed9\n",
      "conv2d_89\n",
      "batch_normalization_v1_89\n",
      "activation_89\n",
      "conv2d_86\n",
      "conv2d_90\n",
      "batch_normalization_v1_86\n",
      "batch_normalization_v1_90\n",
      "activation_86\n",
      "activation_90\n",
      "conv2d_87\n",
      "conv2d_88\n",
      "conv2d_91\n",
      "conv2d_92\n",
      "average_pooling2d_8\n",
      "conv2d_85\n",
      "batch_normalization_v1_87\n",
      "batch_normalization_v1_88\n",
      "batch_normalization_v1_91\n",
      "batch_normalization_v1_92\n",
      "conv2d_93\n",
      "batch_normalization_v1_85\n",
      "activation_87\n",
      "activation_88\n",
      "activation_91\n",
      "activation_92\n",
      "batch_normalization_v1_93\n",
      "activation_85\n",
      "mixed9_1\n",
      "concatenate_1\n",
      "activation_93\n",
      "mixed10\n",
      "avg_pool\n",
      "predictions\n"
     ]
    }
   ],
   "source": [
    "for layer in model.layers:\n",
    "    #if layer.name.startswith(\"activation_\"):\n",
    "    print (layer.name)"
   ]
  },
  {
   "cell_type": "code",
   "execution_count": 4,
   "metadata": {},
   "outputs": [
    {
     "data": {
      "text/plain": [
       "(2048, 1000)"
      ]
     },
     "execution_count": 4,
     "metadata": {},
     "output_type": "execute_result"
    }
   ],
   "source": [
    "np.array(model.layers[len(model.layers)-1].get_weights()[0]).shape"
   ]
  },
  {
   "cell_type": "code",
   "execution_count": 5,
   "metadata": {},
   "outputs": [],
   "source": [
    "activation_layers = [ layer.output for layer in model.layers if layer.name.startswith(\"activation_\")]"
   ]
  },
  {
   "cell_type": "code",
   "execution_count": 6,
   "metadata": {},
   "outputs": [
    {
     "data": {
      "text/plain": [
       "['activation_1',\n",
       " 'activation_2',\n",
       " 'activation_3',\n",
       " 'activation_4',\n",
       " 'activation_8',\n",
       " 'activation_6',\n",
       " 'activation_9',\n",
       " 'activation_5',\n",
       " 'activation_7',\n",
       " 'activation_10',\n",
       " 'activation_11',\n",
       " 'activation_15',\n",
       " 'activation_13',\n",
       " 'activation_16',\n",
       " 'activation_12',\n",
       " 'activation_14',\n",
       " 'activation_17',\n",
       " 'activation_18',\n",
       " 'activation_22',\n",
       " 'activation_20',\n",
       " 'activation_23',\n",
       " 'activation_19',\n",
       " 'activation_21',\n",
       " 'activation_24',\n",
       " 'activation_25',\n",
       " 'activation_27',\n",
       " 'activation_28',\n",
       " 'activation_26',\n",
       " 'activation_29',\n",
       " 'activation_34',\n",
       " 'activation_35',\n",
       " 'activation_31',\n",
       " 'activation_36',\n",
       " 'activation_32',\n",
       " 'activation_37',\n",
       " 'activation_30',\n",
       " 'activation_33',\n",
       " 'activation_38',\n",
       " 'activation_39',\n",
       " 'activation_44',\n",
       " 'activation_45',\n",
       " 'activation_41',\n",
       " 'activation_46',\n",
       " 'activation_42',\n",
       " 'activation_47',\n",
       " 'activation_40',\n",
       " 'activation_43',\n",
       " 'activation_48',\n",
       " 'activation_49',\n",
       " 'activation_54',\n",
       " 'activation_55',\n",
       " 'activation_51',\n",
       " 'activation_56',\n",
       " 'activation_52',\n",
       " 'activation_57',\n",
       " 'activation_50',\n",
       " 'activation_53',\n",
       " 'activation_58',\n",
       " 'activation_59',\n",
       " 'activation_64',\n",
       " 'activation_65',\n",
       " 'activation_61',\n",
       " 'activation_66',\n",
       " 'activation_62',\n",
       " 'activation_67',\n",
       " 'activation_60',\n",
       " 'activation_63',\n",
       " 'activation_68',\n",
       " 'activation_69',\n",
       " 'activation_72',\n",
       " 'activation_73',\n",
       " 'activation_70',\n",
       " 'activation_74',\n",
       " 'activation_71',\n",
       " 'activation_75',\n",
       " 'activation_80',\n",
       " 'activation_77',\n",
       " 'activation_81',\n",
       " 'activation_78',\n",
       " 'activation_79',\n",
       " 'activation_82',\n",
       " 'activation_83',\n",
       " 'activation_76',\n",
       " 'activation_84',\n",
       " 'activation_89',\n",
       " 'activation_86',\n",
       " 'activation_90',\n",
       " 'activation_87',\n",
       " 'activation_88',\n",
       " 'activation_91',\n",
       " 'activation_92',\n",
       " 'activation_85',\n",
       " 'activation_93']"
      ]
     },
     "execution_count": 6,
     "metadata": {},
     "output_type": "execute_result"
    }
   ],
   "source": [
    "layer_names = [ layer.name for layer in model.layers if layer.name.startswith(\"activation_\")]\n",
    "layer_names"
   ]
  },
  {
   "cell_type": "code",
   "execution_count": 7,
   "metadata": {},
   "outputs": [],
   "source": [
    "from tensorflow.keras.models import Model\n",
    "activation_model = Model(inputs=model.input, outputs=activation_layers)"
   ]
  },
  {
   "cell_type": "code",
   "execution_count": 8,
   "metadata": {},
   "outputs": [],
   "source": [
    "def preprocess_image(image_path):\n",
    "    img = image.load_img(image_path, target_size=(299, 299))\n",
    "    img = image.img_to_array(img)\n",
    "    #convert single image to a batch with 1 image\n",
    "    img = np.expand_dims(img, axis=0)    \n",
    "    img = inception_v3.preprocess_input(img)\n",
    "    return img\n",
    "\n",
    "base_image_path = 'labrador.jpg'\n",
    "# Load the image into a Numpy array\n",
    "img = preprocess_image(base_image_path)"
   ]
  },
  {
   "cell_type": "code",
   "execution_count": 9,
   "metadata": {},
   "outputs": [],
   "source": [
    "activations = activation_model.predict(img)"
   ]
  },
  {
   "cell_type": "code",
   "execution_count": 10,
   "metadata": {},
   "outputs": [
    {
     "name": "stdout",
     "output_type": "stream",
     "text": [
      "93\n"
     ]
    },
    {
     "data": {
      "text/plain": [
       "(1, 8, 8, 192)"
      ]
     },
     "execution_count": 10,
     "metadata": {},
     "output_type": "execute_result"
    }
   ],
   "source": [
    "print(len(activation_layers))\n",
    "#activations[93].shape\n",
    "activations[92].shape"
   ]
  },
  {
   "cell_type": "code",
   "execution_count": 11,
   "metadata": {},
   "outputs": [],
   "source": [
    "import matplotlib.pyplot as plt\n",
    "#plt.matshow(activations[7][0, :, :, 0], cmap='viridis')\n",
    "#plt.show()"
   ]
  },
  {
   "cell_type": "code",
   "execution_count": 12,
   "metadata": {},
   "outputs": [
    {
     "name": "stdout",
     "output_type": "stream",
     "text": [
      "Number of Layers 93\n"
     ]
    }
   ],
   "source": [
    "print(\"Number of Layers\", len(activations))"
   ]
  },
  {
   "cell_type": "code",
   "execution_count": 13,
   "metadata": {},
   "outputs": [
    {
     "data": {
      "text/plain": [
       "'activation_43'"
      ]
     },
     "execution_count": 13,
     "metadata": {},
     "output_type": "execute_result"
    }
   ],
   "source": [
    "layer_names[46]"
   ]
  },
  {
   "cell_type": "code",
   "execution_count": 14,
   "metadata": {},
   "outputs": [
    {
     "name": "stdout",
     "output_type": "stream",
     "text": [
      "(192, 128)\n"
     ]
    },
    {
     "name": "stderr",
     "output_type": "stream",
     "text": [
      "/home/dyanos/anaconda3/lib/python3.7/site-packages/ipykernel_launcher.py:23: RuntimeWarning: invalid value encountered in true_divide\n"
     ]
    },
    {
     "data": {
      "image/png": "[encoded data removed]",
      "text/plain": [
       "<Figure size 1152x1728 with 1 Axes>"
      ]
     },
     "metadata": {
      "needs_background": "light"
     },
     "output_type": "display_data"
    }
   ],
   "source": [
    "images_per_row = 16\n",
    "idx = 80\n",
    "# Now let's display our feature maps\n",
    "for layer_activation in activations[idx:idx+1]:\n",
    "    # This is the number of features in the feature map\n",
    "    n_features = layer_activation.shape[-1]\n",
    "    # The feature map has shape (1, size1, size2, n_features)\n",
    "    r = layer_activation.shape[1]\n",
    "    c = layer_activation.shape[2]\n",
    "    \n",
    "    # We will tile the activation channels in this matrix\n",
    "    n_cols = n_features // images_per_row\n",
    "    display_grid = np.zeros((r * n_cols, images_per_row * c))\n",
    "    print(display_grid.shape)\n",
    "    # We'll tile each filter into this big horizontal grid\n",
    "    for col in range(n_cols):\n",
    "        for row in range(images_per_row):\n",
    "            channel_image = layer_activation[0,\n",
    "            :, :,\n",
    "            col * images_per_row + row]\n",
    "            # Post-process the feature to make it visually palatable\n",
    "            channel_image -= channel_image.mean()\n",
    "            channel_image /= channel_image.std()\n",
    "            channel_image *= 64\n",
    "            channel_image += 128\n",
    "            channel_image = np.clip(channel_image, 0, 255).astype('uint8')\n",
    "            display_grid[col * r : (col + 1) * r,\n",
    "            row * c : (row + 1) * c] = channel_image\n",
    "    # Display the grid\n",
    "    scale = 1. / r\n",
    "    plt.figure(figsize=(scale * display_grid.shape[1],\n",
    "    scale * display_grid.shape[0]))\n",
    "    plt.title(layer_names[idx]+\" #filters=\"+str(n_features))\n",
    "    plt.grid(False)\n",
    "    plt.imshow(display_grid, aspect='auto', cmap='viridis')\n"
   ]
  },
  {
   "cell_type": "code",
   "execution_count": 15,
   "metadata": {},
   "outputs": [
    {
     "name": "stdout",
     "output_type": "stream",
     "text": [
      "(1176, 1176)\n"
     ]
    }
   ],
   "source": [
    "images_per_row = 8\n",
    "idx = 1\n",
    "# Now let's display our feature maps\n",
    "layer_activation=activations[idx]\n",
    "# This is the number of features in the feature map\n",
    "n_features = layer_activation.shape[-1]\n",
    "# The feature map has shape (1, size1, size2, n_features)\n",
    "r = layer_activation.shape[1]\n",
    "c = layer_activation.shape[2]\n",
    "    \n",
    "# We will tile the activation channels in this matrix\n",
    "n_cols = n_features // images_per_row\n",
    "display_grid = np.zeros((r * n_cols, images_per_row * c))\n",
    "print(display_grid.shape)\n"
   ]
  },
  {
   "cell_type": "code",
   "execution_count": 16,
   "metadata": {},
   "outputs": [],
   "source": [
    "plt.show()"
   ]
  },
  {
   "cell_type": "markdown",
   "metadata": {},
   "source": [
    "## CNN Visualization by Gradient Accent"
   ]
  },
  {
   "cell_type": "code",
   "execution_count": 17,
   "metadata": {},
   "outputs": [],
   "source": [
    "#layer_name = 'activation_94'\n",
    "layer_name = 'activation_93'\n",
    "filter_index = 0\n",
    "layer_output = model.get_layer(layer_name).output\n",
    "loss = K.mean(layer_output[:, :, :, filter_index])"
   ]
  },
  {
   "cell_type": "code",
   "execution_count": 18,
   "metadata": {},
   "outputs": [],
   "source": [
    "grads = K.gradients(loss, model.input)[0]\n",
    "# We add 1e-5 before dividing so as to avoid accidentally dividing by 0.\n",
    "grads /= (K.sqrt(K.mean(K.square(grads))) + 1e-5)"
   ]
  },
  {
   "cell_type": "code",
   "execution_count": 19,
   "metadata": {},
   "outputs": [],
   "source": [
    "iterate = K.function([model.input], [loss, grads])\n",
    "# Let's test it:\n",
    "import numpy as np\n",
    "loss_value, grads_value = iterate([np.zeros((1, 150, 150, 3))])"
   ]
  },
  {
   "cell_type": "code",
   "execution_count": 20,
   "metadata": {},
   "outputs": [],
   "source": [
    "# We start from a gray image with some noise\n",
    "input_img_data = np.random.random((1, 150, 150, 3)) * 20 + 128.\n",
    "# Run gradient ascent for 40 steps\n",
    "step = 1. # this is the magnitude of each gradient update\n",
    "for i in range(40):\n",
    "    # Compute the loss value and gradient value\n",
    "    loss_value, grads_value = iterate([input_img_data])\n",
    "    # Here we adjust the input image in the direction that maximizes the loss\n",
    "    input_img_data += grads_value * step"
   ]
  },
  {
   "cell_type": "code",
   "execution_count": 21,
   "metadata": {},
   "outputs": [],
   "source": [
    "def deprocess_image(x):\n",
    "    # normalize tensor: center on 0., ensure std is 0.1\n",
    "    x -= x.mean()\n",
    "    x /= (x.std() + 1e-5)\n",
    "    x *= 0.1\n",
    "    # clip to [0, 1]\n",
    "    x += 0.5\n",
    "    x = np.clip(x, 0, 1)\n",
    "    # convert to RGB array\n",
    "    x *= 255\n",
    "    x = np.clip(x, 0, 255).astype('uint8')\n",
    "    return x"
   ]
  },
  {
   "cell_type": "code",
   "execution_count": 22,
   "metadata": {},
   "outputs": [],
   "source": [
    "def generate_pattern(layer_name, filter_index, size=150):\n",
    "    # Build a loss function that maximizes the activation\n",
    "    # of the nth filter of the layer considered.\n",
    "    layer_output = model.get_layer(layer_name).output\n",
    "    loss = K.mean(layer_output[:, :, :, filter_index])\n",
    "    # Compute the gradient of the input picture wrt this loss\n",
    "    grads = K.gradients(loss, model.input)[0]\n",
    "    # Normalization trick: we normalize the gradient\n",
    "    grads /= (K.sqrt(K.mean(K.square(grads))) + 1e-5)\n",
    "    # This function returns the loss and grads given the input picture\n",
    "    iterate = K.function([model.input], [loss, grads])\n",
    "    # We start from a gray image with some noise\n",
    "    input_img_data = np.random.random((1, size, size, 3)) * 20 + 128.\n",
    "    # Run gradient ascent for 40 steps\n",
    "    step = 2.\n",
    "    for i in range(80):\n",
    "        loss_value, grads_value = iterate([input_img_data])\n",
    "        input_img_data += grads_value * step\n",
    "        img = input_img_data[0]\n",
    "    return deprocess_image(img)"
   ]
  },
  {
   "cell_type": "code",
   "execution_count": 23,
   "metadata": {},
   "outputs": [
    {
     "data": {
      "text/plain": [
       "<matplotlib.image.AxesImage at 0x7fbe01ac12e8>"
      ]
     },
     "execution_count": 23,
     "metadata": {},
     "output_type": "execute_result"
    },
    {
     "data": {
      "image/png": "[encoded data removed]",
      "text/plain": [
       "<Figure size 432x288 with 1 Axes>"
      ]
     },
     "metadata": {
      "needs_background": "light"
     },
     "output_type": "display_data"
    }
   ],
   "source": [
    "plt.imshow(generate_pattern('activation_2', 1))"
   ]
  },
  {
   "cell_type": "code",
   "execution_count": 24,
   "metadata": {},
   "outputs": [],
   "source": [
    "plt.show()"
   ]
  },
  {
   "cell_type": "code",
   "execution_count": 25,
   "metadata": {},
   "outputs": [],
   "source": [
    "idx = 0\n",
    "layer_name = layer_names[idx]\n",
    "images_per_row = 8\n",
    "size = 64\n",
    "margin = 5\n",
    "\n",
    "n_features = activation_layers[idx].shape[-1]\n",
    "n_cols = n_features // images_per_row"
   ]
  },
  {
   "cell_type": "code",
   "execution_count": 26,
   "metadata": {},
   "outputs": [
    {
     "data": {
      "text/plain": [
       "(Dimension(32), Dimension(4))"
      ]
     },
     "execution_count": 26,
     "metadata": {},
     "output_type": "execute_result"
    }
   ],
   "source": [
    "n_features, n_cols"
   ]
  },
  {
   "cell_type": "code",
   "execution_count": 27,
   "metadata": {},
   "outputs": [],
   "source": [
    "\n",
    "# This a empty (black) image where we will store our results.\n",
    "results = np.zeros((images_per_row * size + 7 * margin, images_per_row * size + 7 * margin, 3))\n",
    "for i in range(n_cols): # iterate over the rows of our results grid\n",
    "    for j in range(images_per_row): # iterate over the columns of our results grid\n",
    "    # Generate the pattern for filter `i + (j * 8)` in `layer_name`\n",
    "        filter_img = generate_pattern(layer_name, (i * images_per_row) +j, size=size)\n",
    "        # Put the result in the square `(i, j)` of the results grid\n",
    "        horizontal_start = i * size + i * margin\n",
    "        horizontal_end = horizontal_start + size\n",
    "        vertical_start = j * size + j * margin\n",
    "        vertical_end = vertical_start + size\n",
    "        results[horizontal_start: horizontal_end, vertical_start: vertical_end, :] = filter_img\n"
   ]
  },
  {
   "cell_type": "code",
   "execution_count": 28,
   "metadata": {},
   "outputs": [
    {
     "name": "stderr",
     "output_type": "stream",
     "text": [
      "Clipping input data to the valid range for imshow with RGB data ([0..1] for floats or [0..255] for integers).\n"
     ]
    },
    {
     "data": {
      "image/png": "[encoded data removed]",
      "text/plain": [
       "<Figure size 1440x1440 with 1 Axes>"
      ]
     },
     "metadata": {
      "needs_background": "light"
     },
     "output_type": "display_data"
    }
   ],
   "source": [
    "# Display the results grid\n",
    "plt.figure(figsize=(20, 20))\n",
    "plt.title(layer_names[idx]+\" #filters=\"+str(n_features))\n",
    "plt.imshow(results)\n",
    "plt.show()"
   ]
  },
  {
   "cell_type": "markdown",
   "metadata": {},
   "source": [
    "## Deep Dream"
   ]
  },
  {
   "cell_type": "code",
   "execution_count": 29,
   "metadata": {},
   "outputs": [],
   "source": [
    "layer_name = 'activation_41'\n",
    "activation = model.get_layer(layer_name).output\n",
    "\n",
    "# We avoid border artifacts by only involving non-border pixels in the loss.\n",
    "scaling = K.prod(K.cast(K.shape(activation), 'float32'))\n",
    "loss = K.sum(K.square(activation[:, 2: -2, 2: -2, :])) / scaling\n",
    "\n",
    "# This holds our generated image\n",
    "dream = model.input\n",
    "\n",
    "# Compute the gradients of the dream with regard to the loss.\n",
    "grads = K.gradients(loss, dream)[0]\n",
    "\n",
    "# Normalize gradients.\n",
    "grads /= K.maximum(K.mean(K.abs(grads)), 1e-7)\n",
    "\n",
    "\n",
    "iterate_grad_ac_step = K.function([dream], [loss, grads])"
   ]
  },
  {
   "cell_type": "code",
   "execution_count": 30,
   "metadata": {},
   "outputs": [],
   "source": [
    "def gradient_ascent(x, iterations, step, max_loss=None):\n",
    "    for i in range(iterations):\n",
    "        loss_value, grad_values = iterate_grad_ac_step([x])\n",
    "        print('...Loss value at', i, ':', loss_value)\n",
    "        if max_loss is not None and loss_value > max_loss:\n",
    "            break        \n",
    "        x += step * grad_values\n",
    "    return x"
   ]
  },
  {
   "cell_type": "code",
   "execution_count": 31,
   "metadata": {},
   "outputs": [],
   "source": [
    "import scipy\n",
    "\n",
    "def deprocess_image(x):\n",
    "    # Util function to convert a tensor into a valid image.\n",
    "    if K.image_data_format() == 'channels_first':\n",
    "        x = x.reshape((3, x.shape[2], x.shape[3]))\n",
    "        x = x.transpose((1, 2, 0))\n",
    "    else:\n",
    "        x = x.reshape((x.shape[1], x.shape[2], 3))\n",
    "    x /= 2.\n",
    "    x += 0.5\n",
    "    x *= 255.\n",
    "    x = np.clip(x, 0, 255).astype('uint8')\n",
    "    return x\n",
    "\n",
    "def resize_img(img, size):\n",
    "    img = np.copy(img)\n",
    "    factors = (1,\n",
    "               float(size[0]) / img.shape[1],\n",
    "               float(size[1]) / img.shape[2],\n",
    "               1)\n",
    "    return scipy.ndimage.zoom(img, factors, order=1)\n",
    "\n",
    "\n",
    "def save_img(img, fname):\n",
    "    pil_img = deprocess_image(np.copy(img))\n",
    "    scipy.misc.imsave(fname, pil_img)\n"
   ]
  },
  {
   "cell_type": "code",
   "execution_count": 32,
   "metadata": {},
   "outputs": [
    {
     "name": "stdout",
     "output_type": "stream",
     "text": [
      "(1, 299, 299, 3)\n",
      "[(108, 108), (152, 152), (213, 213), (299, 299)]\n"
     ]
    }
   ],
   "source": [
    "num_octave = 4 # Number of scales at which to run gradient ascent\n",
    "octave_scale = 1.4 # Size ratio between scales\n",
    "iterations = 20 # Number of ascent steps per scale\n",
    "\n",
    "# If our loss gets larger than 10, \n",
    "# we will interrupt the gradient ascent process, to avoid ugly artifacts\n",
    "max_loss = 20.\n",
    "\n",
    "base_image_path = 'blue-sky.jpg'\n",
    "# Load the image into a Numpy array\n",
    "img = preprocess_image(base_image_path)\n",
    "print(img.shape)\n",
    "# We prepare a list of shape tuples\n",
    "# defining the different scales at which we will run gradient ascent\n",
    "original_shape = img.shape[1:3]\n",
    "successive_shapes = [original_shape]\n",
    "for i in range(1, num_octave):\n",
    "    shape = tuple([int(dim / (octave_scale ** i)) for dim in original_shape])\n",
    "    successive_shapes.append(shape)\n",
    "\n",
    "# Reverse list of shapes, so that they are in increasing order\n",
    "successive_shapes = successive_shapes[::-1]\n",
    "\n",
    "# Resize the Numpy array of the image to our smallest scale\n",
    "original_img = np.copy(img)\n",
    "shrunk_original_img = resize_img(img, successive_shapes[0])\n",
    "\n",
    "print(successive_shapes)"
   ]
  },
  {
   "cell_type": "code",
   "execution_count": 33,
   "metadata": {
    "scrolled": true
   },
   "outputs": [
    {
     "name": "stdout",
     "output_type": "stream",
     "text": [
      "Processing image shape (108, 108)\n",
      "...Loss value at 0 : 0.008053758\n",
      "...Loss value at 1 : 0.029692436\n",
      "...Loss value at 2 : 0.06846469\n",
      "...Loss value at 3 : 0.103291295\n",
      "...Loss value at 4 : 0.16244784\n",
      "...Loss value at 5 : 0.20856409\n",
      "...Loss value at 6 : 0.23636469\n",
      "...Loss value at 7 : 0.2653571\n",
      "...Loss value at 8 : 0.31170568\n",
      "...Loss value at 9 : 0.32389113\n",
      "...Loss value at 10 : 0.3629553\n",
      "...Loss value at 11 : 0.38530153\n",
      "...Loss value at 12 : 0.412429\n",
      "...Loss value at 13 : 0.42966926\n",
      "...Loss value at 14 : 0.49112856\n",
      "...Loss value at 15 : 0.4828407\n",
      "...Loss value at 16 : 0.5257854\n",
      "...Loss value at 17 : 0.5479646\n",
      "...Loss value at 18 : 0.55252296\n",
      "...Loss value at 19 : 0.5898573\n",
      "adding lost details (1, 108, 108, 3)\n",
      "Processing image shape (152, 152)\n",
      "...Loss value at 0 : 0.10920883\n",
      "...Loss value at 1 : 0.26791015\n",
      "...Loss value at 2 : 0.42658997\n",
      "...Loss value at 3 : 0.5400769\n",
      "...Loss value at 4 : 0.63022935\n",
      "...Loss value at 5 : 0.6920135\n",
      "...Loss value at 6 : 0.7982459\n",
      "...Loss value at 7 : 0.9031858\n",
      "...Loss value at 8 : 0.9829179\n",
      "...Loss value at 9 : 1.0635384\n",
      "...Loss value at 10 : 1.1486179\n"
     ]
    },
    {
     "name": "stderr",
     "output_type": "stream",
     "text": [
      "/home/dyanos/anaconda3/lib/python3.7/site-packages/ipykernel_launcher.py:27: DeprecationWarning: `imsave` is deprecated!\n",
      "`imsave` is deprecated in SciPy 1.0.0, and will be removed in 1.2.0.\n",
      "Use ``imageio.imwrite`` instead.\n"
     ]
    },
    {
     "name": "stdout",
     "output_type": "stream",
     "text": [
      "...Loss value at 11 : 1.222429\n",
      "...Loss value at 12 : 1.3329598\n",
      "...Loss value at 13 : 1.3797604\n",
      "...Loss value at 14 : 1.4439014\n",
      "...Loss value at 15 : 1.5162224\n",
      "...Loss value at 16 : 1.5994828\n",
      "...Loss value at 17 : 1.6814713\n",
      "...Loss value at 18 : 1.7722541\n",
      "...Loss value at 19 : 1.7688488\n",
      "adding lost details (1, 152, 152, 3)\n",
      "Processing image shape (213, 213)\n",
      "...Loss value at 0 : 0.2138379\n",
      "...Loss value at 1 : 0.41335124\n",
      "...Loss value at 2 : 0.545382\n",
      "...Loss value at 3 : 0.638868\n",
      "...Loss value at 4 : 0.7343561\n",
      "...Loss value at 5 : 0.81172436\n",
      "...Loss value at 6 : 0.9251786\n",
      "...Loss value at 7 : 0.9845108\n",
      "...Loss value at 8 : 1.0789529\n",
      "...Loss value at 9 : 1.1629541\n",
      "...Loss value at 10 : 1.2322786\n",
      "...Loss value at 11 : 1.2843755\n",
      "...Loss value at 12 : 1.3665917\n",
      "...Loss value at 13 : 1.4047067\n",
      "...Loss value at 14 : 1.4586163\n",
      "...Loss value at 15 : 1.4832239\n",
      "...Loss value at 16 : 1.5632904\n",
      "...Loss value at 17 : 1.6010278\n",
      "...Loss value at 18 : 1.6801999\n",
      "...Loss value at 19 : 1.7372034\n",
      "adding lost details (1, 213, 213, 3)\n",
      "Processing image shape (299, 299)\n",
      "...Loss value at 0 : 0.21287191\n",
      "...Loss value at 1 : 0.3776719\n",
      "...Loss value at 2 : 0.48488593\n",
      "...Loss value at 3 : 0.5877524\n",
      "...Loss value at 4 : 0.6729072\n",
      "...Loss value at 5 : 0.7612819\n",
      "...Loss value at 6 : 0.85575664\n",
      "...Loss value at 7 : 0.9132343\n",
      "...Loss value at 8 : 0.9793071\n",
      "...Loss value at 9 : 1.0565683\n",
      "...Loss value at 10 : 1.1216675\n",
      "...Loss value at 11 : 1.1990659\n",
      "...Loss value at 12 : 1.274669\n",
      "...Loss value at 13 : 1.3222431\n",
      "...Loss value at 14 : 1.4089882\n",
      "...Loss value at 15 : 1.4529963\n",
      "...Loss value at 16 : 1.5365772\n",
      "...Loss value at 17 : 1.5792049\n",
      "...Loss value at 18 : 1.6410995\n",
      "...Loss value at 19 : 1.6978573\n",
      "adding lost details (1, 299, 299, 3)\n"
     ]
    }
   ],
   "source": [
    "MAX_ITRN = 20\n",
    "MAX_LOSS = 20\n",
    "learning_rate = 0.01\n",
    "\n",
    "for shape in successive_shapes:\n",
    "    print('Processing image shape', shape)\n",
    "    img = resize_img(img, shape)\n",
    "    img = gradient_ascent(img,\n",
    "                          iterations=MAX_ITRN,\n",
    "                          step=learning_rate,\n",
    "                          max_loss=MAX_LOSS)\n",
    "    upscaled_shrunk_original_img = resize_img(shrunk_original_img, shape)\n",
    "    same_size_original = resize_img(original_img, shape)\n",
    "    lost_detail = same_size_original - upscaled_shrunk_original_img\n",
    "    print('adding lost details', lost_detail.shape)\n",
    "    img += lost_detail\n",
    "    shrunk_original_img = resize_img(original_img, shape)\n",
    "    save_img(img, fname='dream_at_scale_' + str(shape) + '.png')\n",
    "\n",
    "save_img(img, fname='final_dream.png')\n"
   ]
  },
  {
   "cell_type": "markdown",
   "metadata": {},
   "source": [
    "## Heatmaps of class activation"
   ]
  },
  {
   "cell_type": "code",
   "execution_count": 34,
   "metadata": {},
   "outputs": [],
   "source": [
    "base_image_path = 'labrador.jpg'\n",
    "# Load the image into a Numpy array\n",
    "img = preprocess_image(base_image_path)"
   ]
  },
  {
   "cell_type": "code",
   "execution_count": 35,
   "metadata": {},
   "outputs": [
    {
     "name": "stdout",
     "output_type": "stream",
     "text": [
      "Predicted: [('n02099601', 'golden_retriever', 0.496629), ('n02099712', 'Labrador_retriever', 0.33014655), ('n04409515', 'tennis_ball', 0.0038336494)]\n"
     ]
    }
   ],
   "source": [
    "preds = model.predict(img)\n",
    "print('Predicted:', decode_predictions(preds, top=3)[0])"
   ]
  },
  {
   "cell_type": "code",
   "execution_count": 36,
   "metadata": {},
   "outputs": [
    {
     "data": {
      "text/plain": [
       "207"
      ]
     },
     "execution_count": 36,
     "metadata": {},
     "output_type": "execute_result"
    }
   ],
   "source": [
    "np.argmax(preds[0])"
   ]
  },
  {
   "cell_type": "code",
   "execution_count": 37,
   "metadata": {},
   "outputs": [
    {
     "name": "stdout",
     "output_type": "stream",
     "text": [
      "WARNING:tensorflow:From /home/dyanos/anaconda3/lib/python3.7/site-packages/tensorflow/python/ops/math_ops.py:3066: to_int32 (from tensorflow.python.ops.math_ops) is deprecated and will be removed in a future version.\n",
      "Instructions for updating:\n",
      "Use tf.cast instead.\n"
     ]
    }
   ],
   "source": [
    "# This is the \"african elephant\" entry in the prediction vector\n",
    "dog_output = model.output[:, 208]\n",
    "# The is the output feature map of the `block5_conv3` layer,\n",
    "# the last convolutional layer in VGG16\n",
    "#last_conv_layer = model.get_layer('activation_94')\n",
    "last_conv_layer = model.get_layer('activation_93')\n",
    "# This is the gradient of the \"dog\" class with regard to\n",
    "# the output feature map of `activation_94`\n",
    "grads = K.gradients(dog_output, last_conv_layer.output)[0]"
   ]
  },
  {
   "cell_type": "code",
   "execution_count": null,
   "metadata": {},
   "outputs": [],
   "source": []
  }
 ],
 "metadata": {
  "kernelspec": {
   "display_name": "Python 3",
   "language": "python",
   "name": "python3"
  },
  "language_info": {
   "codemirror_mode": {
    "name": "ipython",
    "version": 3
   },
   "file_extension": ".py",
   "mimetype": "text/x-python",
   "name": "python",
   "nbconvert_exporter": "python",
   "pygments_lexer": "ipython3",
   "version": "3.7.2"
  }
 },
 "nbformat": 4,
 "nbformat_minor": 2
}
