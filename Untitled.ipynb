{
 "cells": [
  {
   "cell_type": "code",
   "execution_count": null,
   "metadata": {},
   "outputs": [],
   "source": []
  },
  {
   "cell_type": "code",
   "execution_count": 17,
   "metadata": {},
   "outputs": [
    {
     "ename": "SyntaxError",
     "evalue": "invalid syntax (<ipython-input-17-3ade04522cd7>, line 11)",
     "output_type": "error",
     "traceback": [
      "\u001b[0;36m  File \u001b[0;32m\"<ipython-input-17-3ade04522cd7>\"\u001b[0;36m, line \u001b[0;32m11\u001b[0m\n\u001b[0;31m    init = tf.global_variables_initializer() with tf.Session () as session: session . run (init)\u001b[0m\n\u001b[0m                                                ^\u001b[0m\n\u001b[0;31mSyntaxError\u001b[0m\u001b[0;31m:\u001b[0m invalid syntax\n"
     ]
    }
   ],
   "source": [
    "import tensorflow as tf\n",
    "#Initialize Gradient Descent at x,y =(2,\t2)\n",
    "x = tf. Variable (2, name='x', dtype=tf.float32) \n",
    "y = tf.Variable (2, name='y', dtype=tf.float32)\n",
    "temperature = 50 - tf.square(y) - 2*tf. square(x)\n",
    "#Initialize Gradient Descent Optimizer\n",
    "optimizer = tf. train .GradientDescentOptimizer(0.1)\t#0.1\tis the learning rate\n",
    "train = optimizer.minimize(temperature)\n",
    "grad = tf. gradients(temperature, [x,y]) #Lets calculate the gradient vector\n",
    "init = tf.global_variables_initializer() with tf.Session () as session: session . run (init)\n",
    "    print (HStarting at coordinate x={}, y={} and temperature there is {}H. format (\n",
    "session . run(x) , session . run(y), session . run(temperature) ) )\n",
    "grad_norms = [] for step in range(10): session . run(train) g = session . run(grad\n",
    "\n"
   ]
  },
  {
   "cell_type": "code",
   "execution_count": null,
   "metadata": {},
   "outputs": [],
   "source": []
  },
  {
   "cell_type": "code",
   "execution_count": null,
   "metadata": {},
   "outputs": [],
   "source": []
  }
 ],
 "metadata": {
  "kernelspec": {
   "display_name": "Python 3",
   "language": "python",
   "name": "python3"
  },
  "language_info": {
   "codemirror_mode": {
    "name": "ipython",
    "version": 3
   },
   "file_extension": ".py",
   "mimetype": "text/x-python",
   "name": "python",
   "nbconvert_exporter": "python",
   "pygments_lexer": "ipython3",
   "version": "3.7.0"
  }
 },
 "nbformat": 4,
 "nbformat_minor": 2
}
